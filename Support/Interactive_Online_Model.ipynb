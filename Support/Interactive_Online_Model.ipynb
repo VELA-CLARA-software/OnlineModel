{
 "cells": [
  {
   "cell_type": "code",
   "execution_count": 1,
   "metadata": {},
   "outputs": [],
   "source": [
    "%gui qt"
   ]
  },
  {
   "cell_type": "code",
   "execution_count": 2,
   "metadata": {},
   "outputs": [],
   "source": [
    "import mainapp\n",
    "import sys\n",
    "from PyQt5.QtCore import *\n",
    "from PyQt5.QtGui import *\n",
    "from PyQt5.QtWidgets import *"
   ]
  },
  {
   "cell_type": "code",
   "execution_count": 3,
   "metadata": {},
   "outputs": [],
   "source": [
    "app=QCoreApplication.instance()"
   ]
  },
  {
   "cell_type": "code",
   "execution_count": 4,
   "metadata": {},
   "outputs": [
    {
     "name": "stdout",
     "output_type": "stream",
     "text": [
      "###### Loading Database ######\n",
      "       time to load database =  0.05303144454956055 seconds \n",
      "       Number of entries in database =  83\n",
      "###### Database Loaded ######\n",
      "Using LOCAL Model\n",
      "gptlicense =  1165617183\n"
     ]
    }
   ],
   "source": [
    "OM = mainapp.MainApp(app, sys.argv)"
   ]
  },
  {
   "cell_type": "code",
   "execution_count": 5,
   "metadata": {},
   "outputs": [
    {
     "data": {
      "text/plain": [
       "['CLA-S02:tracking_code:value',\n",
       " 'CLA-S02:lsc:value',\n",
       " 'CLA-S02:lsc_bins:value',\n",
       " 'CLA-S02:csr:value',\n",
       " 'CLA-S02:csr_bins:value',\n",
       " 'CLA-S02:CLA-S02-MAG-QUAD-01:k1l',\n",
       " 'CLA-S02:CLA-S02-MAG-QUAD-02:k1l',\n",
       " 'CLA-S02:CLA-S02-MAG-QUAD-03:k1l',\n",
       " 'CLA-S02:CLA-S02-MAG-QUAD-04:k1l',\n",
       " 'CLA-C2V:tracking_code:value',\n",
       " 'CLA-C2V:csr:value',\n",
       " 'CLA-C2V:csr_bins:value',\n",
       " 'CLA-C2V:lsc:value',\n",
       " 'CLA-C2V:lsc_bins:value',\n",
       " 'CLA-C2V:CLA-C2V-MAG-QUAD-01:k1l',\n",
       " 'CLA-C2V:CLA-C2V-MAG-QUAD-02:k1l',\n",
       " 'CLA-C2V:CLA-C2V-MAG-QUAD-03:k1l',\n",
       " 'EBT-INJ:tracking_code:value',\n",
       " 'EBT-INJ:lsc:value',\n",
       " 'EBT-INJ:lsc_bins:value',\n",
       " 'EBT-INJ:csr:value',\n",
       " 'EBT-INJ:csr_bins:value',\n",
       " 'EBT-INJ:EBT-INJ-MAG-QUAD-07:k1l',\n",
       " 'EBT-INJ:EBT-INJ-MAG-QUAD-08:k1l',\n",
       " 'EBT-INJ:EBT-INJ-MAG-QUAD-09:k1l',\n",
       " 'EBT-INJ:EBT-INJ-MAG-QUAD-10:k1l',\n",
       " 'EBT-INJ:EBT-INJ-MAG-QUAD-11:k1l',\n",
       " 'EBT-INJ:EBT-INJ-MAG-QUAD-15:k1l',\n",
       " 'EBT-BA1:tracking_code:value',\n",
       " 'EBT-BA1:lsc:value',\n",
       " 'EBT-BA1:lsc_bins:value',\n",
       " 'EBT-BA1:csr:value',\n",
       " 'EBT-BA1:csr_bins:value',\n",
       " 'EBT-BA1:EBT-BA1-MAG-QUAD-01:k1l',\n",
       " 'EBT-BA1:EBT-BA1-MAG-QUAD-02:k1l',\n",
       " 'EBT-BA1:EBT-BA1-MAG-QUAD-03:k1l',\n",
       " 'EBT-BA1:EBT-BA1-MAG-QUAD-04:k1l',\n",
       " 'EBT-BA1:EBT-BA1-MAG-QUAD-05:k1l',\n",
       " 'EBT-BA1:EBT-BA1-MAG-QUAD-06:k1l',\n",
       " 'EBT-BA1:EBT-BA1-MAG-QUAD-07:k1l',\n",
       " 'Gun:tracking_code:value',\n",
       " 'Gun:lsc:value',\n",
       " 'Linac:tracking_code:value',\n",
       " 'Linac:lsc:value',\n",
       " 'Linac:lsc_bins:value',\n",
       " 'Linac:zwake:value',\n",
       " 'Linac:trwake:value',\n",
       " 'Gun:CLA-LRG1-GUN-CAV:field_amplitude',\n",
       " 'Gun:CLA-LRG1-GUN-CAV:phase',\n",
       " 'Linac:CLA-L01-CAV:field_amplitude',\n",
       " 'Linac:CLA-L01-CAV:phase',\n",
       " 'Gun:CLA-LRG1-MAG-SOL-01:field_amplitude',\n",
       " 'Linac:CLA-L01-MAG-SOL-01:field_amplitude',\n",
       " 'Linac:CLA-L01-MAG-SOL-02:field_amplitude',\n",
       " 'Gun:CLA-LRG1-MAG-BSOL-01:field_amplitude',\n",
       " 'Gun:bsol_tracking:value',\n",
       " 'generator:offset_x:value',\n",
       " 'generator:offset_y:value',\n",
       " 'generator:sig_clock:value',\n",
       " 'generator:plateau_rise_time:value',\n",
       " 'generator:longitudinal_distribution:value',\n",
       " 'generator:longitudinal_cutoff:value',\n",
       " 'generator:thermal_emittance:value',\n",
       " 'generator:spot_size:value',\n",
       " 'generator:transverse_distribution:value',\n",
       " 'generator:transverse_cutoff:value',\n",
       " 'generator:tracking_code:value',\n",
       " 'generator:charge:value',\n",
       " 'generator:number_of_particles:value',\n",
       " 'runButton',\n",
       " 'runs:directory',\n",
       " 'progressBar',\n",
       " 'runs:autoPlot',\n",
       " 'runs:tags',\n",
       " 'runs:username',\n",
       " 'runs:timestamp']"
      ]
     },
     "execution_count": 5,
     "metadata": {},
     "output_type": "execute_result"
    }
   ],
   "source": [
    "OM.list_widgets()"
   ]
  },
  {
   "cell_type": "code",
   "execution_count": 6,
   "metadata": {},
   "outputs": [],
   "source": [
    "OM.modify_widget('CLA-S02:CLA-S02-MAG-QUAD-01:k1l',1)"
   ]
  },
  {
   "cell_type": "code",
   "execution_count": 7,
   "metadata": {},
   "outputs": [
    {
     "data": {
      "text/plain": [
       "[[0, 'Laser'],\n",
       " [1, 'CLA-S01-DIA-SCR-01'],\n",
       " [2, 'CLA-S02-DIA-SCR-01'],\n",
       " [3, 'CLA-S02-DIA-SCR-02'],\n",
       " [4, 'CLA-C2V-MARK-01'],\n",
       " [5, 'CLA-C2V-DIA-SCR-01'],\n",
       " [6, 'CLA-C2V-MARK-02'],\n",
       " [7, 'EBT-INJ-DIA-YAG-05'],\n",
       " [8, 'EBT-INJ-DIA-YAG-06'],\n",
       " [9, 'EBT-INJ-DIA-FCUP-02'],\n",
       " [10, 'EBT-INJ-DIA-YAG-07'],\n",
       " [11, 'EBT-INJ-DIA-YAG-08'],\n",
       " [12, 'EBT-INJ-DIA-ICT-03'],\n",
       " [13, 'EBT-INJ-DIA-YAG-10'],\n",
       " [14, 'EBT-INJ-PSS-SHUT-02'],\n",
       " [15, 'EBT-BA1-DIA-YAG-01'],\n",
       " [16, 'EBT-BA1-LASERBOX-BEG'],\n",
       " [17, 'EBT-BA1-LASERBOX-END'],\n",
       " [18, 'EBT-BA1-COFFIN-BEG'],\n",
       " [19, 'EBT-BA1-COFFIN-FOC'],\n",
       " [20, 'EBT-BA1-COFFIN-END'],\n",
       " [21, 'EBT-BA1-DIA-YAG-02'],\n",
       " [22, 'EBT-BA1-DIA-YAG-03'],\n",
       " [23, 'EBT-BA1-DIA-FCUP-01']]"
      ]
     },
     "execution_count": 7,
     "metadata": {},
     "output_type": "execute_result"
    }
   ],
   "source": [
    "OM.get_screen_indices()"
   ]
  },
  {
   "cell_type": "code",
   "execution_count": 8,
   "metadata": {},
   "outputs": [],
   "source": [
    "OM.set_screen_name('CLA-C2V-MARK-01')"
   ]
  },
  {
   "cell_type": "code",
   "execution_count": 9,
   "metadata": {},
   "outputs": [],
   "source": [
    "OM.set_screen_index(6)"
   ]
  },
  {
   "cell_type": "code",
   "execution_count": 10,
   "metadata": {},
   "outputs": [
    {
     "name": "stderr",
     "output_type": "stream",
     "text": [
      "C:\\Users\\jkj62\\Documents\\GitHub\\SimFrame\\SimulationFramework\\Modules\\read_beam_file.py:608: RuntimeWarning: Degrees of freedom <= 0 for slice\n",
      "  return float(np.cov([u,up])[0,1])\n",
      "c:\\users\\jkj62\\appdata\\local\\continuum\\miniconda3\\envs\\py3qt5test\\lib\\site-packages\\numpy\\lib\\function_base.py:2480: RuntimeWarning: divide by zero encountered in true_divide\n",
      "  c *= np.true_divide(1, fact)\n",
      "c:\\users\\jkj62\\appdata\\local\\continuum\\miniconda3\\envs\\py3qt5test\\lib\\site-packages\\numpy\\lib\\function_base.py:2480: RuntimeWarning: invalid value encountered in multiply\n",
      "  c *= np.true_divide(1, fact)\n"
     ]
    }
   ],
   "source": [
    "OM.plot_row(0)"
   ]
  },
  {
   "cell_type": "code",
   "execution_count": 11,
   "metadata": {},
   "outputs": [],
   "source": [
    "id=OM.get_id_for_row(0)"
   ]
  },
  {
   "cell_type": "code",
   "execution_count": 12,
   "metadata": {},
   "outputs": [
    {
     "name": "stdout",
     "output_type": "stream",
     "text": [
      "4fc6be01-600f-48ad-b7e9-ce34949a6ed3\n"
     ]
    }
   ],
   "source": [
    "print(id)"
   ]
  },
  {
   "cell_type": "code",
   "execution_count": 13,
   "metadata": {},
   "outputs": [
    {
     "data": {
      "text/plain": [
       "{'beta_x': 3.883977592547169,\n",
       " 'alpha_x': -5.233196536137173,\n",
       " 'beta_y': 0.943454778321085,\n",
       " 'alpha_y': 0.12603573080979352,\n",
       " 'beta_x_beam': 3.883977592547206,\n",
       " 'alpha_x_beam': -5.233196536137227,\n",
       " 'beta_y_beam': 0.9434547783210849,\n",
       " 'alpha_y_beam': 0.12603573080979355,\n",
       " 'sigma_x': 0.0010139037204726941,\n",
       " 'sigma_y': 0.00030207395297931203,\n",
       " 'eta_x': 0.016419876695650155,\n",
       " 'eta_xp': 0.015851181409700744,\n",
       " 'eta_x_beam': 0.016412818183354386,\n",
       " 'eta_xp_beam': 0.01584192075636308,\n",
       " 'cp_eV': 36290848.93051526,\n",
       " 'sigma_cp_eV': 505832.23620894813,\n",
       " 'sigma_z': 0.0005516828261931014,\n",
       " 'sigma_t': 1.8403932127700577e-12,\n",
       " 'enx': 1.9312204577125745e-05,\n",
       " 'eny': 6.871235666202765e-06,\n",
       " 'ecnx': 1.7840287538248598e-05,\n",
       " 'ecny': 6.868326989179865e-06}"
      ]
     },
     "execution_count": 13,
     "metadata": {},
     "output_type": "execute_result"
    }
   ],
   "source": [
    "OM.get_twiss_at_screen_for_row(0)"
   ]
  },
  {
   "cell_type": "code",
   "execution_count": 14,
   "metadata": {
    "scrolled": true
   },
   "outputs": [
    {
     "data": {
      "text/plain": [
       "{'beta_x': 16.715534155528623,\n",
       " 'alpha_x': -2.8361375268743285,\n",
       " 'beta_y': 11.73508841204166,\n",
       " 'alpha_y': 1.6581939309887832,\n",
       " 'beta_x_beam': 13.39776428672966,\n",
       " 'alpha_x_beam': -2.2187784782931232,\n",
       " 'beta_y_beam': 11.132692250958652,\n",
       " 'alpha_y_beam': 1.6573935205472332,\n",
       " 'sigma_x': 0.0019377976393660525,\n",
       " 'sigma_y': 0.0010336363650464866,\n",
       " 'eta_x': 0.008425574014327872,\n",
       " 'eta_xp': -0.0021850780894644766,\n",
       " 'eta_x_beam': -0.007687629537942336,\n",
       " 'eta_xp_beam': -0.007564478363684767,\n",
       " 'cp_eV': 36290848.93051526,\n",
       " 'sigma_cp_eV': 505832.23622292746,\n",
       " 'sigma_z': 0.0005593971448515677,\n",
       " 'sigma_t': 1.866127890425616e-12,\n",
       " 'enx': 2.335127199724392e-05,\n",
       " 'eny': 6.86295112985326e-06,\n",
       " 'ecnx': 1.9996198995168247e-05,\n",
       " 'ecny': 6.8599947794457055e-06}"
      ]
     },
     "execution_count": 14,
     "metadata": {},
     "output_type": "execute_result"
    }
   ],
   "source": [
    "OM.get_twiss_at_zpos_for_row(0, 13.5)"
   ]
  },
  {
   "cell_type": "code",
   "execution_count": 15,
   "metadata": {},
   "outputs": [],
   "source": [
    "OM.plot_row(1)"
   ]
  },
  {
   "cell_type": "code",
   "execution_count": 16,
   "metadata": {
    "scrolled": false
   },
   "outputs": [
    {
     "data": {
      "text/plain": [
       "{'4fc6be01-600f-48ad-b7e9-ce34949a6ed3': {'beta_x': 3.883977592547169,\n",
       "  'alpha_x': -5.233196536137173,\n",
       "  'beta_y': 0.943454778321085,\n",
       "  'alpha_y': 0.12603573080979352,\n",
       "  'beta_x_beam': 3.883977592547206,\n",
       "  'alpha_x_beam': -5.233196536137227,\n",
       "  'beta_y_beam': 0.9434547783210849,\n",
       "  'alpha_y_beam': 0.12603573080979355,\n",
       "  'sigma_x': 0.0010139037204726941,\n",
       "  'sigma_y': 0.00030207395297931203,\n",
       "  'eta_x': 0.016419876695650155,\n",
       "  'eta_xp': 0.015851181409700744,\n",
       "  'eta_x_beam': 0.016412818183354386,\n",
       "  'eta_xp_beam': 0.01584192075636308,\n",
       "  'cp_eV': 36290848.93051526,\n",
       "  'sigma_cp_eV': 505832.23620894813,\n",
       "  'sigma_z': 0.0005516828261931014,\n",
       "  'sigma_t': 1.8403932127700577e-12,\n",
       "  'enx': 1.9312204577125745e-05,\n",
       "  'eny': 6.871235666202765e-06,\n",
       "  'ecnx': 1.7840287538248598e-05,\n",
       "  'ecny': 6.868326989179865e-06},\n",
       " '09ce9f6d-6944-470f-a731-69c3964ba16d': {'beta_x': 5.032609415510665,\n",
       "  'alpha_x': -6.458818331790075,\n",
       "  'beta_y': 2.250825946108041,\n",
       "  'alpha_y': -1.401550389247336,\n",
       "  'beta_x_beam': 5.032609415510621,\n",
       "  'alpha_x_beam': -6.458818331790011,\n",
       "  'beta_y_beam': 2.25082594610804,\n",
       "  'alpha_y_beam': -1.4015503892473353,\n",
       "  'sigma_x': 0.0010196281014828213,\n",
       "  'sigma_y': 0.0002826559634030965,\n",
       "  'eta_x': 0.01753160338628646,\n",
       "  'eta_xp': 0.017881743757778897,\n",
       "  'eta_x_beam': 0.017524008640080066,\n",
       "  'eta_xp_beam': 0.017872096726364837,\n",
       "  'cp_eV': 36304163.7744868,\n",
       "  'sigma_cp_eV': 504822.4982045842,\n",
       "  'sigma_z': 0.0005504409476800209,\n",
       "  'sigma_t': 1.8362502246470803e-12,\n",
       "  'enx': 1.4950076768292118e-05,\n",
       "  'eny': 2.5216275444493786e-06,\n",
       "  'ecnx': 1.3838393147141258e-05,\n",
       "  'ecny': 2.521451701664667e-06}}"
      ]
     },
     "execution_count": 16,
     "metadata": {},
     "output_type": "execute_result"
    }
   ],
   "source": [
    "OM.get_twiss()"
   ]
  },
  {
   "cell_type": "code",
   "execution_count": 17,
   "metadata": {
    "scrolled": true
   },
   "outputs": [],
   "source": [
    "slicedata=OM.get_slice_data_for_row(0)"
   ]
  },
  {
   "cell_type": "code",
   "execution_count": 18,
   "metadata": {
    "scrolled": true
   },
   "outputs": [
    {
     "data": {
      "text/plain": [
       "{'4fc6be01-600f-48ad-b7e9-ce34949a6ed3': {'t': array([-6.28775146e+00, -5.80407827e+00, -5.32040508e+00, -4.83673189e+00,\n",
       "         -4.35305870e+00, -3.86938551e+00, -3.38571232e+00, -2.90203913e+00,\n",
       "         -2.41836595e+00, -1.93469276e+00, -1.45101957e+00, -9.67346378e-01,\n",
       "         -4.83673189e-01,  3.30872245e-12,  4.83673189e-01,  9.67346378e-01,\n",
       "          1.45101957e+00,  1.93469276e+00,  2.41836595e+00,  2.90203913e+00,\n",
       "          3.38571232e+00,  3.86938551e+00,  4.35305870e+00,  4.83673189e+00,\n",
       "          5.32040508e+00,  5.80407827e+00,  6.28775146e+00]),\n",
       "  'Slice Horizontal Emittance (normalised)': array([0.00000000e+00, 2.92825633e-06, 3.55931926e-06, 4.19208434e-06,\n",
       "         3.83167458e-06, 3.46308775e-06, 3.50955393e-06, 2.54971604e-06,\n",
       "         1.39964570e-06, 9.19733242e-07, 1.00369885e-06, 8.42284346e-07,\n",
       "         1.17588285e-06, 8.97968278e-07, 8.57391987e-07, 9.76502442e-07,\n",
       "         7.64410678e-07, 1.01833678e-06, 7.37538017e-07, 8.64236373e-07,\n",
       "         4.78169866e-07, 6.01432623e-07, 3.49946941e-07, 3.50907800e-07,\n",
       "         4.63650886e-07, 3.90572033e-07, 0.00000000e+00]),\n",
       "  'Slice Vertical Emittance (normalised)': array([0.00000000e+00, 3.25340499e-06, 6.22860877e-06, 6.07958084e-06,\n",
       "         6.51169905e-06, 6.46789235e-06, 6.52847293e-06, 4.87864364e-06,\n",
       "         5.09631814e-06, 4.43634386e-07, 4.52555547e-07, 2.19554148e-07,\n",
       "         2.72117672e-07, 2.47117124e-07, 1.67198588e-07, 2.75410438e-07,\n",
       "         2.15468003e-07, 2.23618402e-07, 2.42242608e-07, 2.04251396e-07,\n",
       "         2.20838090e-07, 1.80359339e-07, 1.85004021e-07, 1.08397827e-07,\n",
       "         7.86434316e-08, 1.18772683e-07, 0.00000000e+00]),\n",
       "  'Current': array([  0.        , 151.95626865,  82.68291682,  68.66511523,\n",
       "          59.26304906,  46.93035415,  33.92686603,  31.68458781,\n",
       "          11.89470284,   3.98975055,   3.09624262,   2.31600344,\n",
       "           2.36003321,   2.74797892,   1.57756074,   1.48769985,\n",
       "           1.17847804,   1.64667816,   1.75677771,   1.77004949,\n",
       "           1.39979938,   1.94914985,   1.69538801,   1.5706852 ,\n",
       "           1.72386162,   1.26340492,   0.        ]),\n",
       "  'Slice Relative Momentum Spread': array([0.        , 0.44388406, 0.77961197, 0.97688441, 1.11269159,\n",
       "         1.18401227, 1.35265722, 1.50216408, 2.03740858, 0.0433471 ,\n",
       "         0.05248494, 0.05053747, 0.0446696 , 0.04383077, 0.03971976,\n",
       "         0.03411768, 0.0308827 , 0.04457239, 0.04201755, 0.03089789,\n",
       "         0.02343191, 0.03100554, 0.01441777, 0.02956975, 0.02435743,\n",
       "         0.01876713, 0.        ]),\n",
       "  'Slice Horizontal Beta Function': array([0.        , 0.93910845, 2.01896017, 2.2505796 , 3.10958063,\n",
       "         3.76855119, 3.7256483 , 3.96856883, 3.49412224, 3.49724816,\n",
       "         3.10487853, 2.89415557, 3.01744415, 3.59944562, 1.7600413 ,\n",
       "         2.41593753, 1.74616284, 0.74581035, 0.58681726, 0.79546173,\n",
       "         0.92317371, 0.82834004, 2.35604459, 0.70297751, 1.31923281,\n",
       "         2.3624129 , 0.        ]),\n",
       "  'Slice Vertical Beta Function': array([ 0.        ,  1.17922383,  1.07747254,  1.40516123,  1.41048015,\n",
       "          1.4383383 ,  1.54553798,  1.16279673,  0.67777104,  7.38887994,\n",
       "         10.39615491, 13.61771471, 16.74845934, 15.96399824, 23.77726135,\n",
       "         18.09066151, 18.29964487, 19.49865168, 15.32511803, 10.36325805,\n",
       "          7.57190101, 12.8515872 ,  5.31656824,  6.34439498, 11.34350929,\n",
       "         26.73805792,  0.        ])},\n",
       " '09ce9f6d-6944-470f-a731-69c3964ba16d': {'t': array([-6.27852050e+00, -5.79555738e+00, -5.31259427e+00, -4.82963115e+00,\n",
       "         -4.34666804e+00, -3.86370492e+00, -3.38074181e+00, -2.89777869e+00,\n",
       "         -2.41481558e+00, -1.93185246e+00, -1.44888935e+00, -9.65926230e-01,\n",
       "         -4.82963115e-01, -3.30872245e-12,  4.82963115e-01,  9.65926230e-01,\n",
       "          1.44888934e+00,  1.93185246e+00,  2.41481557e+00,  2.89777869e+00,\n",
       "          3.38074181e+00,  3.86370492e+00,  4.34666803e+00,  4.82963115e+00,\n",
       "          5.31259427e+00,  5.79555738e+00,  6.27852050e+00]),\n",
       "  'Slice Horizontal Emittance (normalised)': array([0.00000000e+00, 3.00593883e-06, 4.84987770e-06, 4.33987501e-06,\n",
       "         4.06270898e-06, 3.67552102e-06, 3.48632686e-06, 2.87637930e-06,\n",
       "         1.79164611e-06, 8.19832383e-07, 7.41381386e-07, 7.20212805e-07,\n",
       "         1.03821086e-06, 8.11396246e-07, 6.54864661e-07, 7.88773862e-07,\n",
       "         6.20483946e-07, 8.54431363e-07, 4.56669531e-07, 8.02289317e-07,\n",
       "         4.66019130e-07, 4.27793136e-07, 3.09061178e-07, 2.58995619e-07,\n",
       "         4.28920280e-07, 4.11670203e-07, 0.00000000e+00]),\n",
       "  'Slice Vertical Emittance (normalised)': array([0.00000000e+00, 1.61799461e-06, 2.81258340e-06, 2.64976826e-06,\n",
       "         2.40283824e-06, 2.54086757e-06, 2.44519342e-06, 1.19809586e-06,\n",
       "         1.06076311e-06, 3.51345370e-07, 2.52400313e-07, 1.58307116e-07,\n",
       "         2.30128676e-07, 2.83851127e-07, 1.38267509e-07, 2.29297076e-07,\n",
       "         2.85967393e-07, 2.31131343e-07, 3.02520638e-07, 2.01565240e-07,\n",
       "         2.24326443e-07, 1.62451658e-07, 1.85983269e-07, 1.10758656e-07,\n",
       "         8.02897602e-08, 9.34237203e-08, 0.00000000e+00]),\n",
       "  'Current': array([  0.        , 153.939978  ,  82.20258624,  68.10385152,\n",
       "          57.91741817,  46.96638178,  33.46777475,  32.41681191,\n",
       "          11.19797303,   3.57211241,   3.0669773 ,   2.36330593,\n",
       "           2.39993495,   2.56352382,   1.5439436 ,   1.55859996,\n",
       "           1.30682597,   1.77186168,   1.83475967,   1.80534856,\n",
       "           1.41776095,   1.94654836,   1.68014811,   1.53959475,\n",
       "           1.76157294,   1.2675161 ,   0.        ]),\n",
       "  'Slice Relative Momentum Spread': array([0.        , 0.44212006, 0.7925411 , 1.02706899, 1.09311395,\n",
       "         1.17060511, 1.3795591 , 1.47447445, 2.10565118, 0.03536655,\n",
       "         0.04345281, 0.04577709, 0.04477205, 0.04393225, 0.03816959,\n",
       "         0.03176571, 0.03160989, 0.03518966, 0.02990584, 0.03233495,\n",
       "         0.02275448, 0.02985899, 0.0158179 , 0.02661364, 0.02459356,\n",
       "         0.01958164, 0.        ]),\n",
       "  'Slice Horizontal Beta Function': array([0.        , 1.50292191, 2.29116946, 3.17688496, 4.61395552,\n",
       "         5.31635076, 5.24992294, 5.24030314, 3.33377806, 1.8146812 ,\n",
       "         1.23808154, 1.04022014, 1.14582876, 1.04973516, 0.74219631,\n",
       "         0.88213361, 0.60083377, 0.6929881 , 0.45920226, 0.79052855,\n",
       "         1.11086683, 0.72309777, 1.22174814, 1.2426274 , 0.78495491,\n",
       "         1.20227098, 0.        ]),\n",
       "  'Slice Vertical Beta Function': array([ 0.        ,  2.58355477,  1.95779916,  2.09667251,  2.61270741,\n",
       "          3.27617058,  3.75479408,  4.84251303,  5.21101925, 27.94454453,\n",
       "         45.95694244, 37.73653799, 35.62362105, 21.31721608, 43.51148398,\n",
       "         27.12680129, 18.05773951, 17.97938493, 10.95010643,  9.20809666,\n",
       "          5.97728169, 10.65064894,  3.68570389,  4.13061406,  6.90385122,\n",
       "         19.43420168,  0.        ])}}"
      ]
     },
     "execution_count": 18,
     "metadata": {},
     "output_type": "execute_result"
    }
   ],
   "source": [
    "OM.get_slice_data()"
   ]
  },
  {
   "cell_type": "code",
   "execution_count": 19,
   "metadata": {},
   "outputs": [],
   "source": [
    "from matplotlib import pyplot as plt"
   ]
  },
  {
   "cell_type": "code",
   "execution_count": 20,
   "metadata": {},
   "outputs": [],
   "source": [
    "%matplotlib inline"
   ]
  },
  {
   "cell_type": "code",
   "execution_count": 21,
   "metadata": {},
   "outputs": [],
   "source": [
    "x=slicedata['t']"
   ]
  },
  {
   "cell_type": "code",
   "execution_count": 22,
   "metadata": {},
   "outputs": [],
   "source": [
    "enx=slicedata['Slice Horizontal Emittance (normalised)']\n",
    "eny=slicedata['Slice Vertical Emittance (normalised)']"
   ]
  },
  {
   "cell_type": "code",
   "execution_count": 23,
   "metadata": {},
   "outputs": [
    {
     "data": {
      "image/png": "[encoded data removed]",
      "text/plain": [
       "<Figure size 432x288 with 1 Axes>"
      ]
     },
     "metadata": {
      "needs_background": "light"
     },
     "output_type": "display_data"
    }
   ],
   "source": [
    "line1, = plt.plot(x,enx,label='enx')\n",
    "line2, = plt.plot(x,eny,label='eny')\n",
    "plt.legend(handles=[line1, line2], loc='upper right')\n",
    "plt.grid()"
   ]
  },
  {
   "cell_type": "code",
   "execution_count": 24,
   "metadata": {},
   "outputs": [],
   "source": [
    "beamdata=OM.get_beam_data_for_row(0)"
   ]
  },
  {
   "cell_type": "code",
   "execution_count": 25,
   "metadata": {
    "scrolled": true
   },
   "outputs": [
    {
     "data": {
      "text/plain": [
       "dict_keys(['z', 'cpz'])"
      ]
     },
     "execution_count": 25,
     "metadata": {},
     "output_type": "execute_result"
    }
   ],
   "source": [
    "beamdata.keys()"
   ]
  },
  {
   "cell_type": "code",
   "execution_count": 26,
   "metadata": {
    "scrolled": true
   },
   "outputs": [
    {
     "data": {
      "image/png": "[encoded data removed]",
      "text/plain": [
       "<Figure size 432x288 with 1 Axes>"
      ]
     },
     "metadata": {
      "needs_background": "light"
     },
     "output_type": "display_data"
    }
   ],
   "source": [
    "line1, = plt.plot(beamdata['z'], beamdata['cpz'], '.', label='enx', markersize=1)\n",
    "plt.legend(handles=[line1], loc='upper right')\n",
    "plt.grid()"
   ]
  },
  {
   "cell_type": "code",
   "execution_count": 34,
   "metadata": {},
   "outputs": [],
   "source": [
    "beam_object=OM.get_beam_object_for_row(0)"
   ]
  },
  {
   "cell_type": "code",
   "execution_count": 38,
   "metadata": {
    "scrolled": true
   },
   "outputs": [
    {
     "data": {
      "image/png": "[encoded data removed]",
      "text/plain": [
       "<Figure size 432x288 with 1 Axes>"
      ]
     },
     "metadata": {
      "needs_background": "light"
     },
     "output_type": "display_data"
    }
   ],
   "source": [
    "line1, = plt.plot(beam_object.t, beam_object.cpz, '.', label='enx', markersize=1)\n",
    "plt.legend(handles=[line1], loc='upper right')\n",
    "plt.grid()"
   ]
  },
  {
   "cell_type": "code",
   "execution_count": 43,
   "metadata": {},
   "outputs": [],
   "source": [
    "beam_objects=OM.get_beam_objects()\n",
    "keys=list(beam_objects.keys())"
   ]
  },
  {
   "cell_type": "code",
   "execution_count": 47,
   "metadata": {
    "scrolled": true
   },
   "outputs": [
    {
     "data": {
      "image/png": "[encoded data removed]",
      "text/plain": [
       "<Figure size 432x288 with 1 Axes>"
      ]
     },
     "metadata": {
      "needs_background": "light"
     },
     "output_type": "display_data"
    }
   ],
   "source": [
    "line1, = plt.plot(beam_objects[keys[0]].t, beam_objects[keys[0]].cpz, '.', label=keys[0], markersize=1)\n",
    "line2, = plt.plot(beam_objects[keys[1]].t, beam_objects[keys[1]].cpz, '.', label=keys[1], markersize=1)\n",
    "plt.legend(handles=[line1, line2], loc='upper right')\n",
    "plt.grid()"
   ]
  }
 ],
 "metadata": {
  "kernelspec": {
   "display_name": "Python 3",
   "language": "python",
   "name": "python3"
  },
  "language_info": {
   "codemirror_mode": {
    "name": "ipython",
    "version": 3
   },
   "file_extension": ".py",
   "mimetype": "text/x-python",
   "name": "python",
   "nbconvert_exporter": "python",
   "pygments_lexer": "ipython3",
   "version": "3.7.7"
  }
 },
 "nbformat": 4,
 "nbformat_minor": 4
}
